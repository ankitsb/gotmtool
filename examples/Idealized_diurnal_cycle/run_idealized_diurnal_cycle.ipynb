{
 "cells": [
  {
   "cell_type": "markdown",
   "metadata": {},
   "source": [
    "# Idealized diurnal cycle\n",
    "\n",
    "This notebook runs [GOTM](https://gotm.net/) with idealized diurnal heating, where the solar radiation $F_s$ is\n",
    "$$\n",
    "F_s(t) = F_0 \\max\\left\\{\\cos\\left[2\\pi\\left(\\frac{t}{86400}-0.5\\right)\\right], 0\\right\\},\n",
    "$$\n",
    "where $F_0$ is the maximum solar radiation (W m$^{-2}$) at noon and $t$ is the time of a day (s)."
   ]
  },
  {
   "cell_type": "code",
   "execution_count": 1,
   "metadata": {
    "execution": {
     "iopub.execute_input": "2025-06-04T09:07:49.401802Z",
     "iopub.status.busy": "2025-06-04T09:07:49.401239Z",
     "iopub.status.idle": "2025-06-04T09:08:02.806684Z",
     "shell.execute_reply": "2025-06-04T09:08:02.805242Z",
     "shell.execute_reply.started": "2025-06-04T09:07:49.401744Z"
    },
    "tags": []
   },
   "outputs": [],
   "source": [
    "import sys\n",
    "import copy\n",
    "import numpy as np\n",
    "import pandas as pd\n",
    "import matplotlib.pyplot as plt\n",
    "sys.path.append(\"/scratch/ds2/ab2462/KPP/gotmtool\")\n",
    "from gotmtool import *"
   ]
  },
  {
   "cell_type": "code",
   "execution_count": 2,
   "metadata": {
    "execution": {
     "iopub.execute_input": "2025-06-03T19:17:34.896821Z",
     "iopub.status.busy": "2025-06-03T19:17:34.895681Z",
     "iopub.status.idle": "2025-06-03T19:17:34.908198Z",
     "shell.execute_reply": "2025-06-03T19:17:34.906809Z",
     "shell.execute_reply.started": "2025-06-03T19:17:34.896754Z"
    },
    "tags": []
   },
   "outputs": [],
   "source": [
    "def diurnal_cycle_factor(time):\n",
    "    \"\"\"Get the factor of an idealized diurnal cycle (0, 1) following\n",
    "       f = max(cos(2*pi(t-0.5)), 0.)\n",
    "\n",
    "    :time:   (datetime like) time\n",
    "    :return: (numpy.array) diurnal cycle factor\n",
    "\n",
    "    \"\"\"\n",
    "    tod = (3600.*time.hour+60.*time.minute+time.second)/86400.\n",
    "    return np.maximum(np.cos(2.*np.pi*(tod-0.5)), 0.0)"
   ]
  },
  {
   "cell_type": "markdown",
   "metadata": {
    "user_expressions": []
   },
   "source": [
    "## Create a model\n",
    "Create a model with environment file `../../.gotm_env.yaml`, which is created by `gotm_env_init.py`. "
   ]
  },
  {
   "cell_type": "code",
   "execution_count": 4,
   "metadata": {
    "execution": {
     "iopub.execute_input": "2025-06-03T19:18:19.285851Z",
     "iopub.status.busy": "2025-06-03T19:18:19.285125Z",
     "iopub.status.idle": "2025-06-03T19:18:19.300236Z",
     "shell.execute_reply": "2025-06-03T19:18:19.298826Z",
     "shell.execute_reply.started": "2025-06-03T19:18:19.285794Z"
    },
    "tags": []
   },
   "outputs": [],
   "source": [
    "m = Model(name='Idealized_diurnal_cycle', environ='/scratch/ds2/ab2462/KPP/gotmtool/.gotm_env.yaml')"
   ]
  },
  {
   "cell_type": "markdown",
   "metadata": {
    "user_expressions": []
   },
   "source": [
    "Take a look at what are defined in the environment file."
   ]
  },
  {
   "cell_type": "code",
   "execution_count": 5,
   "metadata": {
    "execution": {
     "iopub.execute_input": "2025-06-03T19:18:23.234043Z",
     "iopub.status.busy": "2025-06-03T19:18:23.233617Z",
     "iopub.status.idle": "2025-06-03T19:18:23.240494Z",
     "shell.execute_reply": "2025-06-03T19:18:23.239220Z",
     "shell.execute_reply.started": "2025-06-03T19:18:23.234000Z"
    },
    "tags": []
   },
   "outputs": [
    {
     "name": "stdout",
     "output_type": "stream",
     "text": [
      "   gotmdir_code: /scratch/ds2/ab2462/KPP/gotm/code\n",
      "   gotmdir_data: /scratch/ds2/ab2462/KPP/gotm/data\n",
      "  gotmdir_build: /scratch/ds2/ab2462/KPP/gotm/build\n",
      "    gotmdir_exe: /scratch/ds2/ab2462/KPP/gotm/exe\n",
      "    gotmdir_run: /scratch/ds2/ab2462/KPP/gotm/run\n",
      " gotmdir_figure: /scratch/ds2/ab2462/KPP/gotm/figure\n",
      "   gotmdir_tool: /scratch/ds2/ab2462/KPP/gotmtool\n"
     ]
    }
   ],
   "source": [
    "for key in m.environ:\n",
    "    print('{:>15s}: {}'.format(key, m.environ[key]) )"
   ]
  },
  {
   "cell_type": "markdown",
   "metadata": {
    "user_expressions": []
   },
   "source": [
    "## Build the model"
   ]
  },
  {
   "cell_type": "code",
   "execution_count": 6,
   "metadata": {
    "execution": {
     "iopub.execute_input": "2025-06-03T19:18:32.574002Z",
     "iopub.status.busy": "2025-06-03T19:18:32.573448Z",
     "iopub.status.idle": "2025-06-03T19:18:32.963050Z",
     "shell.execute_reply": "2025-06-03T19:18:32.961691Z",
     "shell.execute_reply.started": "2025-06-03T19:18:32.573946Z"
    },
    "tags": []
   },
   "outputs": [
    {
     "name": "stdout",
     "output_type": "stream",
     "text": [
      "\u001b[94mWARNING: GOTM is updated. Skipping the build step. Use 'clean=True' to rebuild\u001b[0m\n",
      "CPU times: user 10.1 ms, sys: 12 ms, total: 22.1 ms\n",
      "Wall time: 380 ms\n"
     ]
    }
   ],
   "source": [
    "%%time\n",
    "m.build()"
   ]
  },
  {
   "cell_type": "markdown",
   "metadata": {
    "user_expressions": []
   },
   "source": [
    "## Configuration\n",
    "Initialize the GOTM configuration"
   ]
  },
  {
   "cell_type": "code",
   "execution_count": 7,
   "metadata": {
    "execution": {
     "iopub.execute_input": "2025-06-03T19:18:36.233895Z",
     "iopub.status.busy": "2025-06-03T19:18:36.233448Z",
     "iopub.status.idle": "2025-06-03T19:18:36.917727Z",
     "shell.execute_reply": "2025-06-03T19:18:36.916855Z",
     "shell.execute_reply.started": "2025-06-03T19:18:36.233848Z"
    },
    "tags": []
   },
   "outputs": [
    {
     "name": "stderr",
     "output_type": "stream",
     "text": [
      " ------------------------------------------------------------------------\n",
      " GOTM started on 2025/06/04 at 05:18:36\n",
      " ------------------------------------------------------------------------\n",
      "    initialize_gotm\n",
      " ------------------------------------------------------------------------\n",
      "        Configuration file gotm.yaml not found. Using default settings.\n",
      "        configuring modules ....\n",
      "    init_airsea_yaml\n",
      "        done\n",
      "    init_observations_yaml\n",
      "    init_stokes_drift_yaml\n",
      "        done\n",
      "    init_turbulence_yaml\n",
      "        done.\n",
      "    init_cvmix_yaml\n",
      "        done.\n",
      "    init_meanflow_yaml\n",
      "        done\n",
      "    init_eqstate_yaml\n",
      "    init_density()\n",
      "            rho0=     1027.0000000000000     \n",
      "        done.\n",
      " Your configuration has been written to /scratch/ds2/ab2462/KPP/gotm/run/Idealized_diurnal_cycle/gotm.yaml.\n",
      "STOP 0\n"
     ]
    },
    {
     "name": "stdout",
     "output_type": "stream",
     "text": [
      "Generating default configuration at '/scratch/ds2/ab2462/KPP/gotm/run/Idealized_diurnal_cycle/gotm.yaml'...\n",
      "\u001b[92mDone!\u001b[0m\n"
     ]
    }
   ],
   "source": [
    "cfg = m.init_config()"
   ]
  },
  {
   "cell_type": "markdown",
   "metadata": {
    "user_expressions": []
   },
   "source": [
    "Update the configuration"
   ]
  },
  {
   "cell_type": "code",
   "execution_count": 8,
   "metadata": {
    "execution": {
     "iopub.execute_input": "2025-06-03T19:18:54.534454Z",
     "iopub.status.busy": "2025-06-03T19:18:54.533835Z",
     "iopub.status.idle": "2025-06-03T19:18:54.556865Z",
     "shell.execute_reply": "2025-06-03T19:18:54.555840Z",
     "shell.execute_reply.started": "2025-06-03T19:18:54.534396Z"
    },
    "tags": []
   },
   "outputs": [],
   "source": [
    "# setup\n",
    "title = 'Idealized diurnal cycle'\n",
    "nlev = 80\n",
    "cfg['title'] = title\n",
    "cfg['location']['name'] = 'Idealized'\n",
    "cfg['location']['latitude'] = 45.0\n",
    "cfg['location']['longitude'] = 0.0\n",
    "cfg['location']['depth'] = 102.4\n",
    "cfg['time']['start'] = '2000-01-01 00:00:00'\n",
    "cfg['time']['stop']  = '2000-01-03 00:00:00'\n",
    "cfg['time']['dt']    = 600.0\n",
    "cfg['grid']['nlev']  = nlev\n",
    "\n",
    "# output\n",
    "cfg['output'] = {}\n",
    "cfg['output']['gotm_out'] = {}\n",
    "cfg['output']['gotm_out']['use'] = True\n",
    "cfg['output']['gotm_out']['title'] = title\n",
    "cfg['output']['gotm_out']['k1_stop'] = nlev+1\n",
    "cfg['output']['gotm_out']['k_stop'] = nlev\n",
    "cfg['output']['gotm_out']['time_unit'] = 'dt'\n",
    "cfg['output']['gotm_out']['time_step'] = 3\n",
    "cfg['output']['gotm_out']['variables'] = [{}]\n",
    "cfg['output']['gotm_out']['variables'][0]['source'] = '*'\n",
    "\n",
    "# forcing\n",
    "datadir = m.environ['gotmdir_data']+'/examples/Idealized_diurnal_cycle'\n",
    "cfg['temperature']['method'] = 'file'\n",
    "cfg['temperature']['file'] = datadir+'/t_prof.dat'\n",
    "cfg['salinity']['method'] = 'file'\n",
    "cfg['salinity']['file'] = datadir+'/s_prof.dat'\n",
    "cfg['surface']['fluxes']['heat']['method'] = 'constant'\n",
    "cfg['surface']['fluxes']['heat']['constant_value'] = -159.15\n",
    "cfg['surface']['fluxes']['tx']['method'] = 'constant'\n",
    "cfg['surface']['fluxes']['tx']['constant_value'] = 0.1\n",
    "cfg['surface']['fluxes']['ty']['method'] = 'constant'\n",
    "cfg['surface']['fluxes']['ty']['constant_value'] = 0.0\n",
    "cfg['surface']['swr']['method'] = 'file'\n",
    "cfg['surface']['swr']['file'] = 'swr.dat'\n",
    "cfg['surface']['precip']['method'] = 'constant'\n",
    "cfg['waves']['stokes_drift']['us']['method'] = 'off'\n",
    "cfg['waves']['stokes_drift']['vs']['method'] = 'off'\n",
    "\n",
    "# EOS -- use linear\n",
    "cfg['equation_of_state']['method'] = 'linear_custom'\n",
    "cfg['equation_of_state']['linear']['T0'] = 20.0\n",
    "cfg['equation_of_state']['linear']['S0'] = 35.0\n",
    "cfg['equation_of_state']['linear']['alpha'] = 2e-4\n",
    "cfg['equation_of_state']['linear']['beta'] = 8e-4\n",
    "cfg['equation_of_state']['rho0'] = 1000.0\n",
    "\n",
    "# water type (Jerlov IB)\n",
    "cfg['light_extinction']['method'] = 'jerlov-ib'"
   ]
  },
  {
   "cell_type": "code",
   "execution_count": 9,
   "metadata": {
    "execution": {
     "iopub.execute_input": "2025-06-03T19:19:02.874388Z",
     "iopub.status.busy": "2025-06-03T19:19:02.873774Z",
     "iopub.status.idle": "2025-06-03T19:19:02.899584Z",
     "shell.execute_reply": "2025-06-03T19:19:02.898519Z",
     "shell.execute_reply.started": "2025-06-03T19:19:02.874329Z"
    },
    "tags": []
   },
   "outputs": [],
   "source": [
    "# solar radiation\n",
    "F0 = 500.\n",
    "time = pd.date_range(cfg['time']['start'], cfg['time']['stop'], freq='30min')\n",
    "factor = diurnal_cycle_factor(time)\n",
    "swr = F0*factor"
   ]
  },
  {
   "cell_type": "markdown",
   "metadata": {
    "user_expressions": []
   },
   "source": [
    "We want to run the case using two turbulence closure methods:\n",
    "- The generic length scale (GLS; [Umlauf and Burchard, 2003](https://doi.org/10.1357/002224003322005087)) model in the $k$-$\\epsilon$ formulation with the weak-equilibrium stability function by [Canuto et al., 2001](https://doi.org/10.1175/1520-0485(2001)031%3C1413:OTPIOP%3E2.0.CO;2) (C01A).\n",
    "- The K-profile parameterization (KPP; [Large et al., 1994](https://doi.org/10.1029/94RG01872), [Griffies et al., 2015](https://github.com/CVMix/CVMix-description/raw/master/cvmix.pdf)) with [CVMix](http://cvmix.github.io).\n"
   ]
  },
  {
   "cell_type": "code",
   "execution_count": 10,
   "metadata": {
    "execution": {
     "iopub.execute_input": "2025-06-03T19:19:06.024064Z",
     "iopub.status.busy": "2025-06-03T19:19:06.023420Z",
     "iopub.status.idle": "2025-06-03T19:19:06.029833Z",
     "shell.execute_reply": "2025-06-03T19:19:06.028387Z",
     "shell.execute_reply.started": "2025-06-03T19:19:06.024017Z"
    },
    "tags": []
   },
   "outputs": [],
   "source": [
    "# collect the configurations and the labels of the two runs\n",
    "cfgs = []\n",
    "labels = []"
   ]
  },
  {
   "cell_type": "code",
   "execution_count": 11,
   "metadata": {
    "execution": {
     "iopub.execute_input": "2025-06-03T19:19:08.103628Z",
     "iopub.status.busy": "2025-06-03T19:19:08.103038Z",
     "iopub.status.idle": "2025-06-03T19:19:08.152623Z",
     "shell.execute_reply": "2025-06-03T19:19:08.151321Z",
     "shell.execute_reply.started": "2025-06-03T19:19:08.103572Z"
    },
    "tags": []
   },
   "outputs": [],
   "source": [
    "cfg['turbulence']['turb_method'] = 'second_order'\n",
    "cfg['turbulence']['tke_method'] = 'tke'\n",
    "cfg['turbulence']['len_scale_method'] = 'gls'\n",
    "cfg['turbulence']['scnd']['method'] =  'weak_eq_kb_eq'\n",
    "cfg['turbulence']['scnd']['scnd_coeff'] =  'canuto-a'\n",
    "cfg['turbulence']['turb_param']['length_lim'] = 'false'\n",
    "cfg['turbulence']['turb_param']['compute_c3'] = 'true'\n",
    "cfg['turbulence']['turb_param']['Ri_st'] = 0.25\n",
    "cfg['turbulence']['generic']['gen_m'] = 1.5 \n",
    "cfg['turbulence']['generic']['gen_n'] = -1.0\n",
    "cfg['turbulence']['generic']['gen_p'] = 3.0 \n",
    "cfg['turbulence']['generic']['cpsi1'] = 1.44\n",
    "cfg['turbulence']['generic']['cpsi2'] = 1.92\n",
    "cfg['turbulence']['generic']['cpsi3minus'] = -0.63\n",
    "cfg['turbulence']['generic']['cpsi3plus'] = 1.0 \n",
    "cfg['turbulence']['generic']['sig_kpsi'] = 1.0 \n",
    "cfg['turbulence']['generic']['sig_psi'] = 1.3\n",
    "cfgs.append(copy.deepcopy(cfg))\n",
    "labels.append('GLS-C01A')"
   ]
  },
  {
   "cell_type": "code",
   "execution_count": 12,
   "metadata": {
    "execution": {
     "iopub.execute_input": "2025-06-03T19:19:09.725922Z",
     "iopub.status.busy": "2025-06-03T19:19:09.724710Z",
     "iopub.status.idle": "2025-06-03T19:19:09.866990Z",
     "shell.execute_reply": "2025-06-03T19:19:09.865355Z",
     "shell.execute_reply.started": "2025-06-03T19:19:09.725858Z"
    },
    "tags": []
   },
   "outputs": [
    {
     "ename": "KeyError",
     "evalue": "'kpp'",
     "output_type": "error",
     "traceback": [
      "\u001b[0;31m---------------------------------------------------------------------------\u001b[0m",
      "\u001b[0;31mKeyError\u001b[0m                                  Traceback (most recent call last)",
      "Cell \u001b[0;32mIn[12], line 2\u001b[0m\n\u001b[1;32m      1\u001b[0m cfg[\u001b[38;5;124m'\u001b[39m\u001b[38;5;124mturbulence\u001b[39m\u001b[38;5;124m'\u001b[39m][\u001b[38;5;124m'\u001b[39m\u001b[38;5;124mturb_method\u001b[39m\u001b[38;5;124m'\u001b[39m] \u001b[38;5;241m=\u001b[39m \u001b[38;5;124m'\u001b[39m\u001b[38;5;124mcvmix\u001b[39m\u001b[38;5;124m'\u001b[39m\n\u001b[0;32m----> 2\u001b[0m \u001b[43mcfg\u001b[49m\u001b[43m[\u001b[49m\u001b[38;5;124;43m'\u001b[39;49m\u001b[38;5;124;43mcvmix\u001b[39;49m\u001b[38;5;124;43m'\u001b[39;49m\u001b[43m]\u001b[49m\u001b[43m[\u001b[49m\u001b[38;5;124;43m'\u001b[39;49m\u001b[38;5;124;43msurface_layer\u001b[39;49m\u001b[38;5;124;43m'\u001b[39;49m\u001b[43m]\u001b[49m\u001b[43m[\u001b[49m\u001b[38;5;124;43m'\u001b[39;49m\u001b[38;5;124;43mkpp\u001b[39;49m\u001b[38;5;124;43m'\u001b[39;49m\u001b[43m]\u001b[49m[\u001b[38;5;124m'\u001b[39m\u001b[38;5;124mlangmuir_method\u001b[39m\u001b[38;5;124m'\u001b[39m] \u001b[38;5;241m=\u001b[39m \u001b[38;5;124m'\u001b[39m\u001b[38;5;124mnone\u001b[39m\u001b[38;5;124m'\u001b[39m\n\u001b[1;32m      3\u001b[0m cfgs\u001b[38;5;241m.\u001b[39mappend(copy\u001b[38;5;241m.\u001b[39mdeepcopy(cfg))\n\u001b[1;32m      4\u001b[0m labels\u001b[38;5;241m.\u001b[39mappend(\u001b[38;5;124m'\u001b[39m\u001b[38;5;124mKPP-CVMix\u001b[39m\u001b[38;5;124m'\u001b[39m)\n",
      "File \u001b[0;32m~/.conda/envs/gotm/lib/python3.9/site-packages/ruamel/yaml/comments.py:853\u001b[0m, in \u001b[0;36mCommentedMap.__getitem__\u001b[0;34m(self, key)\u001b[0m\n\u001b[1;32m    851\u001b[0m \u001b[38;5;28;01mdef\u001b[39;00m\u001b[38;5;250m \u001b[39m\u001b[38;5;21m__getitem__\u001b[39m(\u001b[38;5;28mself\u001b[39m, key: Any) \u001b[38;5;241m-\u001b[39m\u001b[38;5;241m>\u001b[39m Any:\n\u001b[1;32m    852\u001b[0m     \u001b[38;5;28;01mtry\u001b[39;00m:\n\u001b[0;32m--> 853\u001b[0m         \u001b[38;5;28;01mreturn\u001b[39;00m \u001b[43mordereddict\u001b[49m\u001b[38;5;241;43m.\u001b[39;49m\u001b[38;5;21;43m__getitem__\u001b[39;49m\u001b[43m(\u001b[49m\u001b[38;5;28;43mself\u001b[39;49m\u001b[43m,\u001b[49m\u001b[43m \u001b[49m\u001b[43mkey\u001b[49m\u001b[43m)\u001b[49m\n\u001b[1;32m    854\u001b[0m     \u001b[38;5;28;01mexcept\u001b[39;00m \u001b[38;5;167;01mKeyError\u001b[39;00m:\n\u001b[1;32m    855\u001b[0m         \u001b[38;5;28;01mfor\u001b[39;00m merged \u001b[38;5;129;01min\u001b[39;00m \u001b[38;5;28mgetattr\u001b[39m(\u001b[38;5;28mself\u001b[39m, merge_attrib, []):\n",
      "\u001b[0;31mKeyError\u001b[0m: 'kpp'"
     ]
    }
   ],
   "source": [
    "cfg['turbulence']['turb_method'] = 'cvmix'\n",
    "cfg['cvmix']['surface_layer']['kpp']['langmuir_method'] = 'none'\n",
    "cfgs.append(copy.deepcopy(cfg))\n",
    "labels.append('KPP-CVMix')"
   ]
  },
  {
   "cell_type": "code",
   "execution_count": 13,
   "metadata": {
    "execution": {
     "iopub.execute_input": "2025-06-03T19:19:16.555094Z",
     "iopub.status.busy": "2025-06-03T19:19:16.554453Z",
     "iopub.status.idle": "2025-06-03T19:19:16.568445Z",
     "shell.execute_reply": "2025-06-03T19:19:16.567174Z",
     "shell.execute_reply.started": "2025-06-03T19:19:16.555025Z"
    },
    "tags": []
   },
   "outputs": [],
   "source": [
    "# save solar radiation file\n",
    "for lb in labels:\n",
    "    run_dir = m.environ['gotmdir_run']+'/'+m.name+'/'+lb\n",
    "    os.makedirs(run_dir, exist_ok=True)\n",
    "    dat_dump_ts(time, [swr], run_dir+'/swr.dat')"
   ]
  },
  {
   "cell_type": "markdown",
   "metadata": {
    "user_expressions": []
   },
   "source": [
    "## Run the model"
   ]
  },
  {
   "cell_type": "code",
   "execution_count": 17,
   "metadata": {
    "execution": {
     "iopub.execute_input": "2025-06-03T19:20:06.475544Z",
     "iopub.status.busy": "2025-06-03T19:20:06.474921Z",
     "iopub.status.idle": "2025-06-03T19:20:06.770114Z",
     "shell.execute_reply": "2025-06-03T19:20:06.769014Z",
     "shell.execute_reply.started": "2025-06-03T19:20:06.475484Z"
    },
    "tags": []
   },
   "outputs": [
    {
     "name": "stdout",
     "output_type": "stream",
     "text": [
      "CPU times: user 0 ns, sys: 24.8 ms, total: 24.8 ms\n",
      "Wall time: 286 ms\n"
     ]
    }
   ],
   "source": [
    "%%time\n",
    "sims = m.run_batch(configs=cfgs, labels=labels, nproc=1)"
   ]
  },
  {
   "cell_type": "code",
   "execution_count": 18,
   "metadata": {
    "execution": {
     "iopub.execute_input": "2025-06-03T19:20:07.984647Z",
     "iopub.status.busy": "2025-06-03T19:20:07.983933Z",
     "iopub.status.idle": "2025-06-03T19:20:07.994335Z",
     "shell.execute_reply": "2025-06-03T19:20:07.993024Z",
     "shell.execute_reply.started": "2025-06-03T19:20:07.984583Z"
    },
    "tags": []
   },
   "outputs": [
    {
     "data": {
      "text/plain": [
       "[<gotmtool.model.Simulation at 0x145c0a157f10>]"
      ]
     },
     "execution_count": 18,
     "metadata": {},
     "output_type": "execute_result"
    }
   ],
   "source": [
    "sims"
   ]
  },
  {
   "cell_type": "markdown",
   "metadata": {
    "user_expressions": []
   },
   "source": [
    "## Results\n",
    "\n",
    "Load the data into an `xarray.Dataset`."
   ]
  },
  {
   "cell_type": "code",
   "execution_count": 19,
   "metadata": {
    "execution": {
     "iopub.execute_input": "2025-06-03T19:20:18.034062Z",
     "iopub.status.busy": "2025-06-03T19:20:18.033447Z",
     "iopub.status.idle": "2025-06-03T19:20:18.776858Z",
     "shell.execute_reply": "2025-06-03T19:20:18.775788Z",
     "shell.execute_reply.started": "2025-06-03T19:20:18.034003Z"
    },
    "tags": []
   },
   "outputs": [
    {
     "ename": "IndexError",
     "evalue": "list index out of range",
     "output_type": "error",
     "traceback": [
      "\u001b[0;31m---------------------------------------------------------------------------\u001b[0m",
      "\u001b[0;31mIndexError\u001b[0m                                Traceback (most recent call last)",
      "Cell \u001b[0;32mIn[19], line 8\u001b[0m\n\u001b[1;32m      6\u001b[0m axarr[\u001b[38;5;241m0\u001b[39m]\u001b[38;5;241m.\u001b[39mset_title(labels[\u001b[38;5;241m0\u001b[39m])\n\u001b[1;32m      7\u001b[0m axarr[\u001b[38;5;241m0\u001b[39m]\u001b[38;5;241m.\u001b[39mset_ylim([\u001b[38;5;241m-\u001b[39m\u001b[38;5;241m40\u001b[39m, \u001b[38;5;241m0\u001b[39m])\n\u001b[0;32m----> 8\u001b[0m data1 \u001b[38;5;241m=\u001b[39m \u001b[43msims\u001b[49m\u001b[43m[\u001b[49m\u001b[38;5;241;43m1\u001b[39;49m\u001b[43m]\u001b[49m\u001b[38;5;241m.\u001b[39mload_data()\n\u001b[1;32m      9\u001b[0m data1\u001b[38;5;241m.\u001b[39mtemp\u001b[38;5;241m.\u001b[39mplot(ax\u001b[38;5;241m=\u001b[39maxarr[\u001b[38;5;241m1\u001b[39m], levels\u001b[38;5;241m=\u001b[39mlevels)\n\u001b[1;32m     10\u001b[0m axarr[\u001b[38;5;241m1\u001b[39m]\u001b[38;5;241m.\u001b[39mset_title(labels[\u001b[38;5;241m1\u001b[39m])\n",
      "\u001b[0;31mIndexError\u001b[0m: list index out of range"
     ]
    },
    {
     "data": {
      "image/png": "[encoded data removed]",
      "text/plain": [
       "<Figure size 800x800 with 3 Axes>"
      ]
     },
     "metadata": {},
     "output_type": "display_data"
    }
   ],
   "source": [
    "fig, axarr = plt.subplots(2, sharex='col')\n",
    "fig.set_size_inches(8, 8)\n",
    "data0 = sims[0].load_data()\n",
    "levels = np.linspace(19.6, 20, 41)\n",
    "data0.temp.plot(ax=axarr[0], levels=levels)\n",
    "axarr[0].set_title(labels[0])\n",
    "axarr[0].set_ylim([-40, 0])\n",
    "data1 = sims[1].load_data()\n",
    "data1.temp.plot(ax=axarr[1], levels=levels)\n",
    "axarr[1].set_title(labels[1])\n",
    "axarr[1].set_ylim([-40, 0])"
   ]
  },
  {
   "cell_type": "code",
   "execution_count": null,
   "metadata": {},
   "outputs": [],
   "source": []
  }
 ],
 "metadata": {
  "kernelspec": {
   "display_name": "Python [conda env:.conda-gotm]",
   "language": "python",
   "name": "conda-env-.conda-gotm-py"
  },
  "language_info": {
   "codemirror_mode": {
    "name": "ipython",
    "version": 3
   },
   "file_extension": ".py",
   "mimetype": "text/x-python",
   "name": "python",
   "nbconvert_exporter": "python",
   "pygments_lexer": "ipython3",
   "version": "3.9.22"
  }
 },
 "nbformat": 4,
 "nbformat_minor": 4
}
